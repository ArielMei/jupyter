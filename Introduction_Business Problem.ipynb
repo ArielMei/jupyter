{
 "cells": [
  {
   "cell_type": "markdown",
   "metadata": {},
   "source": [
    "# <font color=\"Red\">Best Place for an Asian Restaurant in Lasing Capital Area"
   ]
  },
  {
   "cell_type": "markdown",
   "metadata": {},
   "source": [
    "## <font color=\"Blue\"> Introduction/Business Problem\n",
    "\n",
    "\n",
    "The client is looking to open an Asian restaurant in Lansing Capital Area (Lansing, East Lansing, Okemos, Haslett, Mason, and Holt), MI. \n",
    "The location is very important to him as he needs the location of the restaurant fulfills the following considerations:\n",
    "+ In which region, the most favorite restaurant is an Asian restaurant.\n",
    "+ The population in the region should not be too small.\n",
    "\n",
    "In this project, we are interested in restaurants. \n",
    "We will use the popularity of the restaurant and population in this zip code region to cluster the venues. "
   ]
  },
  {
   "cell_type": "markdown",
   "metadata": {},
   "source": [
    "## <font color=\"Blue\">  Data source\n",
    " \n",
    "+ All Americal's zipcode data can be found on the website: https://simplemaps.com/data/us-zips.\n",
    "+ The website of https://www.zipdatamaps.com/{zipcode} provide more details information for each zip code region.\n",
    "+ With the zipcode of each region, we can use Foursquare to locate venues in each zipcode region. \n",
    "Then we will analyze the venues with venue category related to the restaurant.\n",
    "Using popularity of the restaurant and population in the region to cluster these venues by machine learning method."
   ]
  },
  {
   "cell_type": "code",
   "execution_count": null,
   "metadata": {},
   "outputs": [],
   "source": []
  }
 ],
 "metadata": {
  "kernelspec": {
   "display_name": "Python 3",
   "language": "python",
   "name": "python3"
  },
  "language_info": {
   "codemirror_mode": {
    "name": "ipython",
    "version": 3
   },
   "file_extension": ".py",
   "mimetype": "text/x-python",
   "name": "python",
   "nbconvert_exporter": "python",
   "pygments_lexer": "ipython3",
   "version": "3.6.6"
  }
 },
 "nbformat": 4,
 "nbformat_minor": 2
}
