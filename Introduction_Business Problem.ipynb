{
 "cells": [
  {
   "cell_type": "markdown",
   "metadata": {},
   "source": [
    "# <font color=\"Red\">Best place for a Chinese Restaurant in Lasing Capital Area"
   ]
  },
  {
   "cell_type": "markdown",
   "metadata": {},
   "source": [
    "## <font color=\"Blue\"> Introduction/Business Problem\n",
    "\n",
    "The client is looking to open a Chinese restaurant in Lansing Capital Area (Lansing, East Lansing, Okemos, Haslett, Mason, and Holt), MI. \n",
    "The location is very important to him as he needs the location of the restaurant fulfills the following considerations:\n",
    "+ In which region, the most favorite restaurant is a Chinese restaurant.\n",
    "+ The population in the region should not be too small.\n",
    "\n",
    "In this project, we are interested in restaurants. We will use the popularity of the restaurant to cluster the venues for each zip code region. \n",
    "And find out in which zip code region, Chinese Restaurant is the most popular.\n",
    "Consider with the population in these regions, we will figure out which zip code region is the best place to open a Chinese restaurant."
   ]
  },
  {
   "cell_type": "code",
   "execution_count": null,
   "metadata": {},
   "outputs": [],
   "source": []
  }
 ],
 "metadata": {
  "kernelspec": {
   "display_name": "Python 3",
   "language": "python",
   "name": "python3"
  },
  "language_info": {
   "codemirror_mode": {
    "name": "ipython",
    "version": 3
   },
   "file_extension": ".py",
   "mimetype": "text/x-python",
   "name": "python",
   "nbconvert_exporter": "python",
   "pygments_lexer": "ipython3",
   "version": "3.6.6"
  }
 },
 "nbformat": 4,
 "nbformat_minor": 2
}
